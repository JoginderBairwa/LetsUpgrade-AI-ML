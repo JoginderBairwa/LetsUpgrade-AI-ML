{
 "cells": [
  {
   "cell_type": "markdown",
   "metadata": {},
   "source": [
    "#                                                               Assignment Day 5 "
   ]
  },
  {
   "cell_type": "markdown",
   "metadata": {},
   "source": [
    "### Q.1 Write a Python program to find the first 20 non-even prime natural numbers."
   ]
  },
  {
   "cell_type": "code",
   "execution_count": 5,
   "metadata": {},
   "outputs": [
    {
     "name": "stdout",
     "output_type": "stream",
     "text": [
      "3 5 7 11 13 17 19 23 29 31 37 41 43 47 53 59 61 67 71 73 "
     ]
    }
   ],
   "source": [
    "# program to find the first 20 non-even prime natural numbers.\n",
    "count = 0 \n",
    "odd_prime = -1\n",
    "while count < 20:\n",
    "    is_prime = True\n",
    "    odd_prime += 2\n",
    "    for integer in range(3, odd_prime, 2):\n",
    "        if odd_prime%integer == 0:\n",
    "            is_prime = False\n",
    "            break\n",
    "    if odd_prime != 1 and is_prime:\n",
    "            print(odd_prime, end = \" \")\n",
    "            count+=1\n"
   ]
  },
  {
   "cell_type": "markdown",
   "metadata": {},
   "source": [
    "### Q.2 Write a Python program to implement 15 functions of string"
   ]
  },
  {
   "cell_type": "code",
   "execution_count": 13,
   "metadata": {},
   "outputs": [
    {
     "name": "stdout",
     "output_type": "stream",
     "text": [
      "Darshan\n",
      "Lets Upgrade\n",
      "Smart Students\n",
      "Learners\n",
      "1999\n",
      "2020\n"
     ]
    }
   ],
   "source": [
    "name = [\"Darshan\", \"Lets Upgrade\", \"Smart Students\", \"Learners\", 1999, 2020]\n",
    "for dell in name:\n",
    "        print(dell)"
   ]
  },
  {
   "cell_type": "code",
   "execution_count": 16,
   "metadata": {},
   "outputs": [
    {
     "name": "stdout",
     "output_type": "stream",
     "text": [
      "Python\n"
     ]
    }
   ],
   "source": [
    "String_var = 'Python'\n",
    "\n",
    "print(String_var)"
   ]
  },
  {
   "cell_type": "code",
   "execution_count": 41,
   "metadata": {},
   "outputs": [
    {
     "name": "stdout",
     "output_type": "stream",
     "text": [
      "Python\n"
     ]
    }
   ],
   "source": [
    "String_var = \"Python\"\n",
    "\n",
    "print(String_var)"
   ]
  },
  {
   "cell_type": "code",
   "execution_count": 42,
   "metadata": {},
   "outputs": [
    {
     "name": "stdout",
     "output_type": "stream",
     "text": [
      "Python\n"
     ]
    }
   ],
   "source": [
    "String_var = \"\"\"Python\"\"\"\n",
    "print(String_var)"
   ]
  },
  {
   "cell_type": "code",
   "execution_count": 43,
   "metadata": {},
   "outputs": [
    {
     "name": "stdout",
     "output_type": "stream",
     "text": [
      "4\n"
     ]
    }
   ],
   "source": [
    "astring = \"Hello world!\"\n",
    "print(astring.index(\"o\"))"
   ]
  },
  {
   "cell_type": "code",
   "execution_count": 44,
   "metadata": {},
   "outputs": [
    {
     "name": "stdout",
     "output_type": "stream",
     "text": [
      "e\n"
     ]
    }
   ],
   "source": [
    "astring = \"Hello world!\"\n",
    "print(astring[1])"
   ]
  },
  {
   "cell_type": "code",
   "execution_count": 45,
   "metadata": {},
   "outputs": [
    {
     "name": "stdout",
     "output_type": "stream",
     "text": [
      "!\n"
     ]
    }
   ],
   "source": [
    "astring = \"Hello world!\"\n",
    "print(astring[-1])"
   ]
  },
  {
   "cell_type": "code",
   "execution_count": 46,
   "metadata": {},
   "outputs": [
    {
     "name": "stdout",
     "output_type": "stream",
     "text": [
      ".knil tsekaew sti sa gnorts sa ylno si niahc A\n"
     ]
    }
   ],
   "source": [
    "j = \"A chain is only as strong as its weakest link.\"\n",
    "print(j[::-1])"
   ]
  },
  {
   "cell_type": "code",
   "execution_count": 47,
   "metadata": {},
   "outputs": [
    {
     "name": "stdout",
     "output_type": "stream",
     "text": [
      " chain is only as strong as its weakest lin\n"
     ]
    }
   ],
   "source": [
    "astring = \"A chain is only as strong as its weakest link\"\n",
    "print(astring[1:-1])"
   ]
  },
  {
   "cell_type": "code",
   "execution_count": 48,
   "metadata": {},
   "outputs": [
    {
     "name": "stdout",
     "output_type": "stream",
     "text": [
      "A chain is only as strong as its weakest link.\n"
     ]
    }
   ],
   "source": [
    "astring = \"A chain is only as strong as its weakest link.\"\n",
    "print(astring[::])"
   ]
  },
  {
   "cell_type": "code",
   "execution_count": 49,
   "metadata": {},
   "outputs": [
    {
     "name": "stdout",
     "output_type": "stream",
     "text": [
      "A CHAIN IS ONLY AS STRONG AS ITS WEAKEST LINK.\n"
     ]
    }
   ],
   "source": [
    "astring = \"A chain is only as strong as its weakest link.\"\n",
    "print(astring.upper())"
   ]
  },
  {
   "cell_type": "code",
   "execution_count": 50,
   "metadata": {},
   "outputs": [
    {
     "name": "stdout",
     "output_type": "stream",
     "text": [
      "a chain is only as strong as its weakest link.\n"
     ]
    }
   ],
   "source": [
    "b = \"A chain is only as strong as its weakest link.\"\n",
    "print(b.lower())"
   ]
  },
  {
   "cell_type": "code",
   "execution_count": 52,
   "metadata": {},
   "outputs": [
    {
     "name": "stdout",
     "output_type": "stream",
     "text": [
      "46\n"
     ]
    }
   ],
   "source": [
    "a = \"A chain is only as strong as its weakest link.\"\n",
    "print(len(a))"
   ]
  },
  {
   "cell_type": "code",
   "execution_count": 54,
   "metadata": {},
   "outputs": [
    {
     "name": "stdout",
     "output_type": "stream",
     "text": [
      "34\n"
     ]
    }
   ],
   "source": [
    "j = \"A chain is only as strong as its weakest link.\"\n",
    "print(j.index(\"e\"))"
   ]
  },
  {
   "cell_type": "code",
   "execution_count": 55,
   "metadata": {},
   "outputs": [
    {
     "name": "stdout",
     "output_type": "stream",
     "text": [
      "2\n"
     ]
    }
   ],
   "source": [
    "a = \"A chain is only as strong as its weakest link.\"\n",
    "print(a.count(\"e\"))"
   ]
  },
  {
   "cell_type": "code",
   "execution_count": 56,
   "metadata": {},
   "outputs": [],
   "source": [
    "j = \"A chain is only as strong as its weakest link.\"\n",
    "afewwords = j.split(\" \")"
   ]
  },
  {
   "cell_type": "markdown",
   "metadata": {},
   "source": [
    "### Q.3 Write a Python program to check if the given string is a Palindrome or Anagram or None of them. Display the message accordingly to the user."
   ]
  },
  {
   "cell_type": "code",
   "execution_count": 57,
   "metadata": {},
   "outputs": [
    {
     "name": "stdin",
     "output_type": "stream",
     "text": [
      "Enter the Word listen\n",
      "Enter the Word silent\n"
     ]
    },
    {
     "name": "stdout",
     "output_type": "stream",
     "text": [
      "Anagram\n"
     ]
    }
   ],
   "source": [
    "string1 = input(\"Enter the Word\")\n",
    "rev_string=string1[::-1]\n",
    "if rev_string==string1:\n",
    "    print(\"Palindrome\")\n",
    "else:\n",
    "    \n",
    "    string2 = input(\"Enter the Word\")\n",
    "    str1=sorted(string1)\n",
    "    str2=sorted(string2)\n",
    "    \n",
    "    if str1 == str2:\n",
    "        print(\"Anagram\")\n",
    "    else:\n",
    "        print(none)"
   ]
  },
  {
   "cell_type": "markdown",
   "metadata": {},
   "source": [
    "### Q.4 Write a Python's user defined function that removes all the additional characters from the stringand converts it finally to lower case using built-in lower(). eg: If the string is \"Dr. Darshan Ingle @AI-ML Trainer\", then the output be \"drdarshaningleaimltrainer\".\n"
   ]
  },
  {
   "cell_type": "code",
   "execution_count": 68,
   "metadata": {},
   "outputs": [
    {
     "name": "stdout",
     "output_type": "stream",
     "text": [
      "drdarshaningleaimltrainer\n"
     ]
    }
   ],
   "source": [
    "name = \"Dr. Darshan Ingle @AI-ML Trainer\"\n",
    "no_special_character = \"\"\n",
    "\n",
    "\n",
    "for character in name:\n",
    "    if character.isalnum():\n",
    "        no_special_character += character\n",
    "\n",
    "print(no_special_character.lower())"
   ]
  },
  {
   "cell_type": "code",
   "execution_count": null,
   "metadata": {},
   "outputs": [],
   "source": []
  }
 ],
 "metadata": {
  "kernelspec": {
   "display_name": "Python 3",
   "language": "python",
   "name": "python3"
  },
  "language_info": {
   "codemirror_mode": {
    "name": "ipython",
    "version": 3
   },
   "file_extension": ".py",
   "mimetype": "text/x-python",
   "name": "python",
   "nbconvert_exporter": "python",
   "pygments_lexer": "ipython3",
   "version": "3.7.7"
  }
 },
 "nbformat": 4,
 "nbformat_minor": 4
}
